{
 "cells": [
  {
   "cell_type": "code",
   "execution_count": null,
   "id": "9f2ff7eb",
   "metadata": {},
   "outputs": [],
   "source": [
    "import torch\n",
    "import numpy as np\n",
    "import pandas as pd\n",
    "from tqdm.notebook import tqdm\n",
    "from sklearn.model_selection import train_test_split\n",
    "import os\n",
    "import matplotlib.pyplot as plt"
   ]
  },
  {
   "cell_type": "code",
   "execution_count": 12,
   "id": "2c78edc3",
   "metadata": {},
   "outputs": [],
   "source": [
    "torch.multiprocessing.freeze_support()"
   ]
  },
  {
   "cell_type": "code",
   "execution_count": 13,
   "id": "9578f3d3",
   "metadata": {},
   "outputs": [],
   "source": [
    "images = np.load('mds-misis-dl-captchan/images.npy')  \n",
    "labels = np.load('mds-misis-dl-captchan/labels.npy')  \n",
    "test_images = np.load('mds-misis-dl-captchan/images_sub.npy')"
   ]
  },
  {
   "cell_type": "code",
   "execution_count": 14,
   "id": "5a7ad64f",
   "metadata": {},
   "outputs": [],
   "source": [
    "BATCH_SIZE = 64\n",
    "EPOCHS = 30\n",
    "LR = 1e-3\n",
    "PATIENCE = 5\n",
    "LABEL_SMOOTH=0.15"
   ]
  },
  {
   "cell_type": "code",
   "execution_count": 15,
   "id": "f0712794",
   "metadata": {},
   "outputs": [
    {
     "name": "stdout",
     "output_type": "stream",
     "text": [
      "Using CUDA\n"
     ]
    },
    {
     "data": {
      "application/vnd.jupyter.widget-view+json": {
       "model_id": "f86a0f433ca440f383eace68d7ee63e8",
       "version_major": 2,
       "version_minor": 0
      },
      "text/plain": [
       "Epoch 0 [Train]:   0%|          | 0/250 [00:00<?, ?it/s]"
      ]
     },
     "metadata": {},
     "output_type": "display_data"
    },
    {
     "name": "stdout",
     "output_type": "stream",
     "text": [
      "Epoch 0: Train Loss: 1.294715666294098, Val Acc: 0.88225\n"
     ]
    },
    {
     "data": {
      "application/vnd.jupyter.widget-view+json": {
       "model_id": "40b961ee0f734a4698c4942522288bff",
       "version_major": 2,
       "version_minor": 0
      },
      "text/plain": [
       "Epoch 1 [Train]:   0%|          | 0/250 [00:00<?, ?it/s]"
      ]
     },
     "metadata": {},
     "output_type": "display_data"
    },
    {
     "name": "stdout",
     "output_type": "stream",
     "text": [
      "Epoch 1: Train Loss: 1.274181342601776, Val Acc: 0.89075\n"
     ]
    },
    {
     "data": {
      "application/vnd.jupyter.widget-view+json": {
       "model_id": "da909c7b30ba44d7903877fbd1748a78",
       "version_major": 2,
       "version_minor": 0
      },
      "text/plain": [
       "Epoch 2 [Train]:   0%|          | 0/250 [00:00<?, ?it/s]"
      ]
     },
     "metadata": {},
     "output_type": "display_data"
    },
    {
     "name": "stdout",
     "output_type": "stream",
     "text": [
      "Epoch 2: Train Loss: 1.2545279364585877, Val Acc: 0.89475\n"
     ]
    },
    {
     "data": {
      "application/vnd.jupyter.widget-view+json": {
       "model_id": "957e9e96d175492cb40b651d8dab8678",
       "version_major": 2,
       "version_minor": 0
      },
      "text/plain": [
       "Epoch 3 [Train]:   0%|          | 0/250 [00:00<?, ?it/s]"
      ]
     },
     "metadata": {},
     "output_type": "display_data"
    },
    {
     "name": "stdout",
     "output_type": "stream",
     "text": [
      "Epoch 3: Train Loss: 1.2394682512283326, Val Acc: 0.89875\n"
     ]
    },
    {
     "data": {
      "application/vnd.jupyter.widget-view+json": {
       "model_id": "ec713b5b3b8f4100aade292ecb0d8492",
       "version_major": 2,
       "version_minor": 0
      },
      "text/plain": [
       "Epoch 4 [Train]:   0%|          | 0/250 [00:00<?, ?it/s]"
      ]
     },
     "metadata": {},
     "output_type": "display_data"
    },
    {
     "name": "stdout",
     "output_type": "stream",
     "text": [
      "Epoch 4: Train Loss: 1.2248553838729859, Val Acc: 0.9025\n"
     ]
    },
    {
     "data": {
      "application/vnd.jupyter.widget-view+json": {
       "model_id": "56501ab175c84c6ca3f521dfef725d21",
       "version_major": 2,
       "version_minor": 0
      },
      "text/plain": [
       "Epoch 5 [Train]:   0%|          | 0/250 [00:00<?, ?it/s]"
      ]
     },
     "metadata": {},
     "output_type": "display_data"
    },
    {
     "name": "stdout",
     "output_type": "stream",
     "text": [
      "Epoch 5: Train Loss: 1.1684065141677857, Val Acc: 0.92075\n"
     ]
    },
    {
     "data": {
      "application/vnd.jupyter.widget-view+json": {
       "model_id": "5483a8ca8a874af5b5748170bb7195ae",
       "version_major": 2,
       "version_minor": 0
      },
      "text/plain": [
       "Epoch 6 [Train]:   0%|          | 0/250 [00:00<?, ?it/s]"
      ]
     },
     "metadata": {},
     "output_type": "display_data"
    },
    {
     "name": "stdout",
     "output_type": "stream",
     "text": [
      "Epoch 6: Train Loss: 1.1547096996307373, Val Acc: 0.92075\n"
     ]
    },
    {
     "data": {
      "application/vnd.jupyter.widget-view+json": {
       "model_id": "bccd519c24294ba888f7c8a738b160f2",
       "version_major": 2,
       "version_minor": 0
      },
      "text/plain": [
       "Epoch 7 [Train]:   0%|          | 0/250 [00:00<?, ?it/s]"
      ]
     },
     "metadata": {},
     "output_type": "display_data"
    },
    {
     "name": "stdout",
     "output_type": "stream",
     "text": [
      "Epoch 7: Train Loss: 1.149112561225891, Val Acc: 0.92\n"
     ]
    },
    {
     "data": {
      "application/vnd.jupyter.widget-view+json": {
       "model_id": "f08c316295904bc6b7400e8cdb25f671",
       "version_major": 2,
       "version_minor": 0
      },
      "text/plain": [
       "Epoch 8 [Train]:   0%|          | 0/250 [00:00<?, ?it/s]"
      ]
     },
     "metadata": {},
     "output_type": "display_data"
    },
    {
     "name": "stdout",
     "output_type": "stream",
     "text": [
      "Epoch 8: Train Loss: 1.145678265094757, Val Acc: 0.91975\n"
     ]
    },
    {
     "data": {
      "application/vnd.jupyter.widget-view+json": {
       "model_id": "8ad4f57fdb324a5fb82a128d548d4e4d",
       "version_major": 2,
       "version_minor": 0
      },
      "text/plain": [
       "Epoch 9 [Train]:   0%|          | 0/250 [00:00<?, ?it/s]"
      ]
     },
     "metadata": {},
     "output_type": "display_data"
    },
    {
     "name": "stdout",
     "output_type": "stream",
     "text": [
      "Epoch 9: Train Loss: 1.1389064135551452, Val Acc: 0.92175\n"
     ]
    },
    {
     "data": {
      "application/vnd.jupyter.widget-view+json": {
       "model_id": "03bb95ab9f424bfba59692eba747144f",
       "version_major": 2,
       "version_minor": 0
      },
      "text/plain": [
       "Epoch 10 [Train]:   0%|          | 0/250 [00:00<?, ?it/s]"
      ]
     },
     "metadata": {},
     "output_type": "display_data"
    },
    {
     "name": "stdout",
     "output_type": "stream",
     "text": [
      "Epoch 10: Train Loss: 1.1351829323768616, Val Acc: 0.92125\n"
     ]
    },
    {
     "data": {
      "application/vnd.jupyter.widget-view+json": {
       "model_id": "9d140b0f9b634f5bbe7443be5258c476",
       "version_major": 2,
       "version_minor": 0
      },
      "text/plain": [
       "Epoch 11 [Train]:   0%|          | 0/250 [00:00<?, ?it/s]"
      ]
     },
     "metadata": {},
     "output_type": "display_data"
    },
    {
     "name": "stdout",
     "output_type": "stream",
     "text": [
      "Epoch 11: Train Loss: 1.1371772656440735, Val Acc: 0.92275\n"
     ]
    },
    {
     "data": {
      "application/vnd.jupyter.widget-view+json": {
       "model_id": "f5aaa8920c384a268f8ef1a76075ef75",
       "version_major": 2,
       "version_minor": 0
      },
      "text/plain": [
       "Epoch 12 [Train]:   0%|          | 0/250 [00:00<?, ?it/s]"
      ]
     },
     "metadata": {},
     "output_type": "display_data"
    },
    {
     "name": "stdout",
     "output_type": "stream",
     "text": [
      "Epoch 12: Train Loss: 1.1362366333007812, Val Acc: 0.923\n"
     ]
    },
    {
     "data": {
      "application/vnd.jupyter.widget-view+json": {
       "model_id": "fbdee6deb0fb40ada31f500b9b497ff5",
       "version_major": 2,
       "version_minor": 0
      },
      "text/plain": [
       "Epoch 13 [Train]:   0%|          | 0/250 [00:00<?, ?it/s]"
      ]
     },
     "metadata": {},
     "output_type": "display_data"
    },
    {
     "name": "stdout",
     "output_type": "stream",
     "text": [
      "Epoch 13: Train Loss: 1.134415334701538, Val Acc: 0.92175\n"
     ]
    },
    {
     "data": {
      "application/vnd.jupyter.widget-view+json": {
       "model_id": "c943fef7091949dd94f8da1e20b3016c",
       "version_major": 2,
       "version_minor": 0
      },
      "text/plain": [
       "Epoch 14 [Train]:   0%|          | 0/250 [00:00<?, ?it/s]"
      ]
     },
     "metadata": {},
     "output_type": "display_data"
    },
    {
     "name": "stdout",
     "output_type": "stream",
     "text": [
      "Epoch 14: Train Loss: 1.133571762084961, Val Acc: 0.92125\n"
     ]
    },
    {
     "data": {
      "application/vnd.jupyter.widget-view+json": {
       "model_id": "fe7c47b064694438bfeb9a4e111460d6",
       "version_major": 2,
       "version_minor": 0
      },
      "text/plain": [
       "Epoch 15 [Train]:   0%|          | 0/250 [00:00<?, ?it/s]"
      ]
     },
     "metadata": {},
     "output_type": "display_data"
    },
    {
     "name": "stdout",
     "output_type": "stream",
     "text": [
      "Epoch 15: Train Loss: 1.1344211683273315, Val Acc: 0.9225\n"
     ]
    },
    {
     "data": {
      "application/vnd.jupyter.widget-view+json": {
       "model_id": "f0f3e2eefc314cc8b00852b0564b7765",
       "version_major": 2,
       "version_minor": 0
      },
      "text/plain": [
       "Epoch 16 [Train]:   0%|          | 0/250 [00:00<?, ?it/s]"
      ]
     },
     "metadata": {},
     "output_type": "display_data"
    },
    {
     "name": "stdout",
     "output_type": "stream",
     "text": [
      "Epoch 16: Train Loss: 1.1356357998847961, Val Acc: 0.92275\n"
     ]
    },
    {
     "data": {
      "application/vnd.jupyter.widget-view+json": {
       "model_id": "4948b307c62246989979cbcf26f6f878",
       "version_major": 2,
       "version_minor": 0
      },
      "text/plain": [
       "Epoch 17 [Train]:   0%|          | 0/250 [00:00<?, ?it/s]"
      ]
     },
     "metadata": {},
     "output_type": "display_data"
    },
    {
     "name": "stdout",
     "output_type": "stream",
     "text": [
      "Epoch 17: Train Loss: 1.1352097353935242, Val Acc: 0.92275\n"
     ]
    }
   ],
   "source": [
    "# Convert to tensors\n",
    "images_tensor = torch.tensor(images.astype('float32')/255.0).permute(0,3,1,2)\n",
    "labels_tensor = torch.tensor(labels.astype('int64'))\n",
    "# Split data\n",
    "X_train, X_val, y_train, y_val = train_test_split(\n",
    "    images_tensor, labels_tensor, test_size=0.2, random_state=42\n",
    ")\n",
    "# Load them...\n",
    "train_dataset = torch.utils.data.TensorDataset(X_train, y_train)\n",
    "val_dataset = torch.utils.data.TensorDataset(X_val, y_val)\n",
    "# ..to loader\n",
    "train_loader = torch.utils.data.DataLoader(train_dataset, batch_size=BATCH_SIZE,shuffle=True)\n",
    "val_loader = torch.utils.data.DataLoader(val_dataset, batch_size=BATCH_SIZE,)\n",
    "\n",
    "class ImageClassifier(torch.nn.Module):\n",
    "    def __init__(self, num_chanels=3, num_classes=26):\n",
    "        super().__init__()\n",
    "        self.features = torch.nn.Sequential(\n",
    "            torch.nn.Conv2d(num_chanels, 32, kernel_size=3, padding=1),\n",
    "            torch.nn.BatchNorm2d(32),\n",
    "            torch.nn.GELU(), # gain some perfomance\n",
    "            torch.nn.MaxPool2d(2), # prevent overtrain\n",
    "            torch.nn.Dropout(0.2),\n",
    "            \n",
    "            torch.nn.Conv2d(32, 64, kernel_size=3, padding=1),\n",
    "            torch.nn.BatchNorm2d(64),\n",
    "            torch.nn.GELU(),\n",
    "            torch.nn.MaxPool2d(2),\n",
    "            torch.nn.Dropout(0.2),\n",
    "            \n",
    "            torch.nn.Conv2d(64, 128, kernel_size=3, padding=1),\n",
    "            torch.nn.BatchNorm2d(128),\n",
    "            torch.nn.GELU(),\n",
    "            torch.nn.MaxPool2d(2),\n",
    "            torch.nn.Dropout(0.2),\n",
    "            \n",
    "            torch.nn.Conv2d(128, 256, kernel_size=3, padding=1),\n",
    "            torch.nn.BatchNorm2d(256),\n",
    "            torch.nn.GELU(),\n",
    "            torch.nn.MaxPool2d(2),\n",
    "            torch.nn.Dropout(0.1)\n",
    "            \n",
    "        )\n",
    "\n",
    "        self.classificator = torch.nn.Sequential(\n",
    "            torch.nn.AdaptiveAvgPool2d((1, 1)),\n",
    "            torch.nn.Flatten(),\n",
    "            torch.nn.Linear(256 ,num_classes)\n",
    "        )\n",
    "        \n",
    "    def forward(self, x):\n",
    "        x = self.features(x)\n",
    "        x = self.classificator(x)\n",
    "        return x\n",
    "\n",
    "# Init model, load weights if exist\n",
    "if torch.cuda.is_available():\n",
    "    print(\"Using CUDA\")\n",
    "    device = torch.device('cuda')\n",
    "else:\n",
    "    print(\"Using CPU\")\n",
    "    device = torch.device('cpu')\n",
    "model = ImageClassifier().to(device)\n",
    "if os.path.exists('best_model.pth'):\n",
    "    model.load_state_dict(torch.load('best_model.pth'))\n",
    "    model.to(device)\n",
    "    model.eval()\n",
    "\n",
    "torch.optimizer = torch.optim.Adam(model.parameters(), lr=LR, weight_decay=1e-4)\n",
    "criterion = torch.torch.nn.CrossEntropyLoss(label_smoothing=LABEL_SMOOTH)\n",
    "scheduler = torch.torch.optim.lr_scheduler.ReduceLROnPlateau(torch.optimizer, 'min', patience=3)\n",
    "\n",
    "def train():\n",
    "    best_val_acc = 0.0\n",
    "    no_improve = 0\n",
    "\n",
    "    loss_hist_train = [0] * EPOCHS\n",
    "    acc_hist_val = [0] * EPOCHS\n",
    "\n",
    "    for epoch in range(0, EPOCHS):\n",
    "        model.train()\n",
    "        train_loss = 0\n",
    "        for x_batch, y_batch in tqdm(train_loader, desc=f'Epoch {epoch} [Train]'):\n",
    "            # transfer tensor to device\n",
    "            x_batch, y_batch = x_batch.to(device), y_batch.to(device)\n",
    "            # Optimzer step\n",
    "            torch.optimizer.zero_grad()\n",
    "            loss = criterion(model(x_batch), y_batch)\n",
    "            loss.backward()\n",
    "            torch.optimizer.step()\n",
    "            train_loss += loss.item()\n",
    "\n",
    "        model.eval()\n",
    "        correct = 0\n",
    "        total = 0\n",
    "        with torch.no_grad():\n",
    "            for x_batch, y_batch in val_loader:\n",
    "                x_batch, y_batch = x_batch.to(device), y_batch.to(device)\n",
    "                preds = model(x_batch).argmax(dim=1)\n",
    "                correct += (preds == y_batch).sum().item()\n",
    "                total += y_batch.size(0)\n",
    "\n",
    "        val_acc = correct / total\n",
    "        print(f'Epoch {epoch}: Train Loss: {train_loss/len(train_loader)}, Val Acc: {val_acc}')\n",
    "\n",
    "        if val_acc > best_val_acc:\n",
    "            best_val_acc = val_acc\n",
    "            torch.save(model.state_dict(), 'best_model.pth')\n",
    "            no_improve = 0\n",
    "        else:\n",
    "            no_improve += 1\n",
    "            if no_improve >= PATIENCE:\n",
    "                break\n",
    "        scheduler.step(val_acc)\n",
    "\n",
    "        loss_hist_train[epoch]=train_loss/len(train_loader)\n",
    "        acc_hist_val[epoch]=val_acc\n",
    "    \n",
    "    return loss_hist_train, acc_hist_val\n",
    "loss_hist_train, acc_hist_val = train()"
   ]
  },
  {
   "cell_type": "code",
   "execution_count": 16,
   "id": "d295067d",
   "metadata": {},
   "outputs": [
    {
     "data": {
      "image/png": "[encoded data removed]",
      "text/plain": [
       "<Figure size 640x480 with 1 Axes>"
      ]
     },
     "metadata": {},
     "output_type": "display_data"
    }
   ],
   "source": [
    "loss_hist_train_np = np.array(loss_hist_train)\n",
    "acc_hist_val_np = np.array(acc_hist_val)\n",
    "\n",
    "plt.plot(loss_hist_train_np[loss_hist_train_np.nonzero()], label='Train Loss')\n",
    "plt.plot(acc_hist_val_np[acc_hist_val_np.nonzero()], label='Val Accuracy')\n",
    "plt.legend()\n",
    "plt.xlabel('Epoch')\n",
    "plt.ylabel('Accuracy')\n",
    "plt.show()"
   ]
  },
  {
   "cell_type": "code",
   "execution_count": 17,
   "id": "941ace4c",
   "metadata": {},
   "outputs": [],
   "source": [
    "images_tensor = torch.tensor(test_images.astype('float32')/255.0).permute(0,3,1,2)\n",
    "test_loader = torch.utils.data.DataLoader(images_tensor, batch_size=BATCH_SIZE)\n",
    "\n",
    "model.load_state_dict(torch.load('best_model.pth'))\n",
    "model.eval()\n",
    "all_predictions = []\n",
    "with torch.no_grad():\n",
    "    for batch in test_loader:\n",
    "        x_batch = batch.to(device)\n",
    "        outputs = model(x_batch)\n",
    "        _, predicted = torch.max(outputs, dim=1)\n",
    "        all_predictions.extend(predicted.cpu().numpy())\n",
    "\n",
    "submission = pd.DataFrame({\n",
    "    'id': np.arange(len(all_predictions)),\n",
    "    'Category': all_predictions\n",
    "})\n",
    "submission.to_csv('submission.csv', index=False)"
   ]
  }
 ],
 "metadata": {
  "kernelspec": {
   "display_name": ".venv",
   "language": "python",
   "name": "python3"
  },
  "language_info": {
   "codemirror_mode": {
    "name": "ipython",
    "version": 3
   },
   "file_extension": ".py",
   "mimetype": "text/x-python",
   "name": "python",
   "nbconvert_exporter": "python",
   "pygments_lexer": "ipython3",
   "version": "3.12.3"
  }
 },
 "nbformat": 4,
 "nbformat_minor": 5
}
